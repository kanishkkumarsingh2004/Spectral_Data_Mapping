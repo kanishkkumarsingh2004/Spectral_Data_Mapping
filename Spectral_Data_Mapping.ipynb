{
  "nbformat": 4,
  "nbformat_minor": 0,
  "metadata": {
    "colab": {
      "provenance": [],
      "gpuType": "T4"
    },
    "kernelspec": {
      "name": "python3",
      "display_name": "Python 3"
    },
    "language_info": {
      "name": "python"
    },
    "accelerator": "GPU"
  },
  "cells": [
    {
      "cell_type": "code",
      "execution_count": 1,
      "metadata": {
        "id": "HvhYHmWM1EML"
      },
      "outputs": [],
      "source": [
        "import numpy as np\n",
        "import matplotlib.pyplot as plt\n"
      ]
    },
    {
      "cell_type": "code",
      "source": [
        "def display_image_from_colors(color_array,height,width,axis = 'on'):\n",
        "    # Convert the list of lists of tuples into a NumPy array\n",
        "    np_array = ((np.array(color_array, dtype=np.uint8)).reshape(height,width,3))\n",
        "    # Display the image\n",
        "    plt.imshow(np_array)\n",
        "    plt.axis(axis)  # Hide the axes\n",
        "    plt.show()\n",
        "\n",
        "def my_max(data):\n",
        "    a = []\n",
        "    for i in data:\n",
        "        if i > 0:\n",
        "            a.append(i)\n",
        "        else:\n",
        "            a.append(((i)*(-1)))\n",
        "\n",
        "    max_value = max(a)\n",
        "    normalized_data = [(i / max_value) for i in a]\n",
        "    return normalized_data\n",
        "\n",
        "def l_b(length):\n",
        "  typ = type(length)\n",
        "  if typ == list:\n",
        "    a = len(length)\n",
        "  else:\n",
        "    a = length\n",
        "  lis = []\n",
        "  for i in range(0,a+1):\n",
        "    for j in range(0,a+1):\n",
        "      if (i * j == a):\n",
        "        l = i\n",
        "        b = j\n",
        "        se = (i,j)\n",
        "        lis.append(se)\n",
        "  b,l = lis[((len(lis))//2)]\n",
        "  return [int(l),int(b)]\n",
        ""
      ],
      "metadata": {
        "id": "-U1Vu5Gp1NKB"
      },
      "execution_count": 2,
      "outputs": []
    },
    {
      "cell_type": "code",
      "source": [
        "\n",
        "a = [-15,-14,-13,-12,-11, -10, -9, -8,-7, -6, -5, -4, -3, -2, -1, 0, 1, 2, 3, 4, 5, 6, 7, 8, 9, 10, 11, 12, 13, 14, 15]\n",
        "\n",
        "length, breadth = l_b(a)\n",
        "\n",
        "print(a)\n",
        "red,green,blue = [255,0,0],[0,255,0],[0,0,255]\n",
        "b = np.array(my_max(a))\n",
        "\n",
        "img = []\n",
        "for i in range(0,len(a)):\n",
        "    j = a[i]\n",
        "    if j > 0:\n",
        "        reval = np.dot(red,b[i])\n",
        "        img.append(reval)\n",
        "    else:\n",
        "        blval = np.dot(blue,b[i])\n",
        "        img.append(blval)\n",
        "fin_img = (np.array(img))\n",
        "\n",
        "\n",
        "display_image_from_colors(fin_img,int((length)),int((breadth)),'off')\n"
      ],
      "metadata": {
        "colab": {
          "base_uri": "https://localhost:8080/",
          "height": 70
        },
        "id": "NurZFVAE1RNx",
        "outputId": "1cf4f0ba-8397-4a10-a1fe-8d7bdca4067b"
      },
      "execution_count": 11,
      "outputs": [
        {
          "output_type": "stream",
          "name": "stdout",
          "text": [
            "[-15, -14, -13, -12, -11, -10, -9, -8, -7, -6, -5, -4, -3, -2, -1, 0, 1, 2, 3, 4, 5, 6, 7, 8, 9, 10, 11, 12, 13, 14, 15]\n"
          ]
        },
        {
          "output_type": "display_data",
          "data": {
            "text/plain": [
              "<Figure size 640x480 with 1 Axes>"
            ],
            "image/png": "[encoded data removed]"
          },
          "metadata": {}
        }
      ]
    }
  ]
}